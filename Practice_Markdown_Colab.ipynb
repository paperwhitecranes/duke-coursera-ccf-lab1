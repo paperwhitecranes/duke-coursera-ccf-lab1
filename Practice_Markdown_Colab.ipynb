{
  "cells": [
    {
      "cell_type": "markdown",
      "metadata": {
        "id": "view-in-github",
        "colab_type": "text"
      },
      "source": [
        "<a href=\"https://colab.research.google.com/github/paperwhitecranes/duke-coursera-ccf-lab1/blob/main/Practice_Markdown_Colab.ipynb\" target=\"_parent\"><img src=\"https://colab.research.google.com/assets/colab-badge.svg\" alt=\"Open In Colab\"/></a>"
      ]
    },
    {
      "cell_type": "code",
      "execution_count": null,
      "id": "e3c5ca3c-4fa3-47b7-b3c2-4df1ac3a413d",
      "metadata": {
        "id": "e3c5ca3c-4fa3-47b7-b3c2-4df1ac3a413d",
        "outputId": "66553b2e-f6c7-4951-89c2-fedfc1ab1fd2"
      },
      "outputs": [
        {
          "name": "stdout",
          "output_type": "stream",
          "text": [
            "hello world\n"
          ]
        }
      ],
      "source": [
        "print(\"hello world\")"
      ]
    },
    {
      "cell_type": "markdown",
      "id": "586cb070-11d4-4bc1-a32c-020b48a0a324",
      "metadata": {
        "id": "586cb070-11d4-4bc1-a32c-020b48a0a324"
      },
      "source": [
        "# Hello World"
      ]
    },
    {
      "cell_type": "markdown",
      "id": "d7ef9540-c5cd-47c7-af76-771fc4f9c4f4",
      "metadata": {
        "id": "d7ef9540-c5cd-47c7-af76-771fc4f9c4f4"
      },
      "source": [
        "**Hello World**"
      ]
    },
    {
      "cell_type": "markdown",
      "id": "6a93f245-58a6-40b2-80cd-ebc65195e1d6",
      "metadata": {
        "id": "6a93f245-58a6-40b2-80cd-ebc65195e1d6"
      },
      "source": [
        "> Test that is a quote"
      ]
    },
    {
      "cell_type": "code",
      "execution_count": null,
      "id": "192a26d5-d71f-444d-8503-1d529dc54766",
      "metadata": {
        "id": "192a26d5-d71f-444d-8503-1d529dc54766"
      },
      "outputs": [],
      "source": [
        ""
      ]
    }
  ],
  "metadata": {
    "kernelspec": {
      "display_name": "Python 3 (ipykernel)",
      "language": "python",
      "name": "python3"
    },
    "language_info": {
      "codemirror_mode": {
        "name": "ipython",
        "version": 3
      },
      "file_extension": ".py",
      "mimetype": "text/x-python",
      "name": "python",
      "nbconvert_exporter": "python",
      "pygments_lexer": "ipython3",
      "version": "3.10.4"
    },
    "colab": {
      "name": "Practice-Markdown.ipynb",
      "provenance": [],
      "include_colab_link": true
    }
  },
  "nbformat": 4,
  "nbformat_minor": 5
}