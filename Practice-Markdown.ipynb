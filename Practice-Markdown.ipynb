{
 "cells": [
  {
   "cell_type": "code",
   "execution_count": 1,
   "id": "e3c5ca3c-4fa3-47b7-b3c2-4df1ac3a413d",
   "metadata": {},
   "outputs": [
    {
     "name": "stdout",
     "output_type": "stream",
     "text": [
      "hello world\n"
     ]
    }
   ],
   "source": [
    "print(\"hello world\")"
   ]
  },
  {
   "cell_type": "markdown",
   "id": "586cb070-11d4-4bc1-a32c-020b48a0a324",
   "metadata": {},
   "source": [
    "# Hello World"
   ]
  },
  {
   "cell_type": "markdown",
   "id": "d7ef9540-c5cd-47c7-af76-771fc4f9c4f4",
   "metadata": {},
   "source": [
    "**Hello World**"
   ]
  },
  {
   "cell_type": "markdown",
   "id": "6a93f245-58a6-40b2-80cd-ebc65195e1d6",
   "metadata": {},
   "source": [
    "> Test that is a quote"
   ]
  },
  {
   "cell_type": "code",
   "execution_count": null,
   "id": "192a26d5-d71f-444d-8503-1d529dc54766",
   "metadata": {},
   "outputs": [],
   "source": []
  }
 ],
 "metadata": {
  "kernelspec": {
   "display_name": "Python 3 (ipykernel)",
   "language": "python",
   "name": "python3"
  },
  "language_info": {
   "codemirror_mode": {
    "name": "ipython",
    "version": 3
   },
   "file_extension": ".py",
   "mimetype": "text/x-python",
   "name": "python",
   "nbconvert_exporter": "python",
   "pygments_lexer": "ipython3",
   "version": "3.10.4"
  }
 },
 "nbformat": 4,
 "nbformat_minor": 5
}
